{
 "metadata": {
  "language_info": {
   "codemirror_mode": {
    "name": "ipython",
    "version": 3
   },
   "file_extension": ".py",
   "mimetype": "text/x-python",
   "name": "python",
   "nbconvert_exporter": "python",
   "pygments_lexer": "ipython3",
   "version": "3.8.3-final"
  },
  "orig_nbformat": 2,
  "kernelspec": {
   "name": "python3",
   "display_name": "Python 3",
   "language": "python"
  }
 },
 "nbformat": 4,
 "nbformat_minor": 2,
 "cells": [
  {
   "cell_type": "code",
   "execution_count": null,
   "metadata": {},
   "outputs": [],
   "source": [
    "#m04u03\n",
    "tal = int(input(\"Skriv ditt tal\"))\n",
    "tal2 = int(input(\"Skriv ditt tal\"))\n",
    "for i in range(1,tal+1):\n",
    "    print(*(\"{:4}\".format(i*rad) \n",
    "    for rad in range (1,tal2+1)))\n"
   ]
  },
  {
   "cell_type": "code",
   "execution_count": null,
   "metadata": {},
   "outputs": [],
   "source": [
    "#Uppgift: m04u02\n",
    "\n",
    "\n",
    "\n",
    "\n",
    "\n",
    "summa = 0\n",
    "start = 10\n",
    "stopp = 20\n",
    "print(\"\\nVi loopar från {} till {}.\".format(start, stopp))\n",
    "\n",
    "for i in range (start, stopp+1):\n",
    "    summa += i\n",
    "   \n",
    "    if i % 3 == 0:\n",
    "        print(\"När i är {} så är totalsumman {}\".format(i, summa))\n",
    "\n",
    "else:\n",
    "    print(\"När vi loopat färdigt så är summan {}\".format(summa))\n"
   ]
  },
  {
   "cell_type": "code",
   "execution_count": null,
   "metadata": {},
   "outputs": [],
   "source": [
    "# %%\n",
    "#m04u06\n",
    "\n",
    "talstart = int(input(\"Skriv ditt start tal\")) - 1\n",
    "talslut = int(input(\"Skriv ditt slut tal\"))\n",
    "talute = int(input(\"Skriv ditt som ej ska komma med\"))\n",
    "talbreak = int(input(\"Skriv ditt tal där loppen bryts\")) + 1\n",
    "\n",
    "while talstart < talslut:\n",
    "    talstart += 1\n",
    "    if talstart == talbreak:\n",
    "        break\n",
    "    if talstart == talute:\n",
    "        print(\"Nej\")\n",
    "        continue\n",
    "    print(talstart)\n",
    "   \n",
    "\n",
    "\n",
    "# %%"
   ]
  },
  {
   "cell_type": "code",
   "execution_count": null,
   "metadata": {},
   "outputs": [],
   "source": [
    "\n",
    "#m04u04\n",
    "num = 1\n",
    "\n",
    "while num < 11:\n",
    "    print(num)\n",
    "    num += 1\n",
    "else:\n",
    "    print(\"Det var alla tal\")\n",
    "\n",
    "\n",
    "\n"
   ]
  },
  {
   "cell_type": "code",
   "execution_count": null,
   "metadata": {},
   "outputs": [],
   "source": [
    "#m04u07\n",
    "\n",
    "while True:\n",
    "    try:\n",
    "        talstart = int(input(\"Skriv ditt start tal\")) - 1\n",
    "        talslut = int(input(\"Skriv ditt slut tal\"))\n",
    "    except:\n",
    "        print(\"Det var ingen hel tal börja om\")\n",
    "        continue\n",
    "\n",
    "    if talslut > talstart:\n",
    "        break\n",
    "            \n",
    "    else:\n",
    "        print(\"Talstarten är större än sluttalen börja om\")\n",
    "        continue\n",
    "\n",
    "while True:\n",
    "    try:\n",
    "        talbreak = int(input(\"Skriv ditt tal där loppen bryts\")) + 1\n",
    "        break\n",
    "    except:\n",
    "        print(\"Det var ingen hel tal börja om\")\n",
    "        continue\n",
    "while True:\n",
    "    try:\n",
    "        talute = int(input(\"Skriv ditt som ej ska komma med\"))\n",
    "        break\n",
    "    except:\n",
    "        print(\"Det var ingen hel tal börja om\")\n",
    "        continue\n",
    "\n",
    "\n",
    "while talstart < talslut:\n",
    "    talstart += 1\n",
    "    if talstart == talbreak:\n",
    "        break\n",
    "    if talstart == talute:\n",
    "        print(\"Nej\")\n",
    "        continue\n",
    "    print(talstart)"
   ]
  },
  {
   "cell_type": "code",
   "execution_count": null,
   "metadata": {},
   "outputs": [],
   "source": [
    "#m04e02\n",
    "antal = 100\n",
    "år = 0\n",
    "\n",
    "while antal < 1000000:\n",
    "    antal *= 2\n",
    "    år += 1\n",
    "    if antal < 1000000:\n",
    "        continue\n",
    "    print(år)\n"
   ]
  },
  {
   "cell_type": "code",
   "execution_count": null,
   "metadata": {},
   "outputs": [],
   "source": [
    "#m04u05\n",
    "\n",
    "antal = 100\n",
    "år = 0\n",
    "\n",
    "while antal < 1000000:\n",
    "    antal *= 2\n",
    "    år += 1\n",
    "else: print (f\"Det tar {år} år\") "
   ]
  },
  {
   "cell_type": "code",
   "execution_count": null,
   "metadata": {},
   "outputs": [],
   "source": [
    "#Uppgift: m04u01\n",
    "tal = 1\n",
    "for i in range (10,1,-2):\n",
    "    print(i)\n",
    "    tal *= i\n",
    "else:\n",
    "    print(\"SUmman är\", tal)"
   ]
  }
 ]
}