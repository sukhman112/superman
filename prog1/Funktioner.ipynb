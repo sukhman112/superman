{
 "metadata": {
  "language_info": {
   "codemirror_mode": {
    "name": "ipython",
    "version": 3
   },
   "file_extension": ".py",
   "mimetype": "text/x-python",
   "name": "python",
   "nbconvert_exporter": "python",
   "pygments_lexer": "ipython3",
   "version": "3.8.3-final"
  },
  "orig_nbformat": 2,
  "kernelspec": {
   "name": "python3",
   "display_name": "Python 3"
  }
 },
 "nbformat": 4,
 "nbformat_minor": 2,
 "cells": [
  {
   "cell_type": "code",
   "execution_count": 3,
   "metadata": {},
   "outputs": [],
   "source": [
    "# Funktioner\n",
    "# inparameter\n",
    "# anropa funktion\n",
    "# return-sats\n",
    "# lokala variabler"
   ]
  },
  {
   "cell_type": "code",
   "execution_count": 6,
   "metadata": {},
   "outputs": [
    {
     "output_type": "error",
     "ename": "IndentationError",
     "evalue": "unexpected indent (<ipython-input-6-2465db6ec259>, line 6)",
     "traceback": [
      "\u001b[1;36m  File \u001b[1;32m\"<ipython-input-6-2465db6ec259>\"\u001b[1;36m, line \u001b[1;32m6\u001b[0m\n\u001b[1;33m    vikt_medel= medelvärde(60,62)\u001b[0m\n\u001b[1;37m    ^\u001b[0m\n\u001b[1;31mIndentationError\u001b[0m\u001b[1;31m:\u001b[0m unexpected indent\n"
     ]
    }
   ],
   "source": [
    "# definerat en funktion som retunrerar medelvärdet av två tal \n",
    "def medelvärde (tal1,tal2):\n",
    "    medel =(tal1+tal2)/2 #medel är en vokla variabl- syns endastt i scopet av funktionen \n",
    "    return medel\n",
    "print (medel)\n",
    " vikt_medel= medelvärde(60,62)\n",
    " print (f\"min medelvikt är {vikt_medel} kg\")"
   ]
  },
  {
   "cell_type": "code",
   "execution_count": 9,
   "metadata": {},
   "outputs": [],
   "source": [
    "import numpy as np \n",
    "import matplotlib.pyplot as plt\n",
    "def f(x):\n",
    "    return x**2\n",
    "#anropa funktionen med parametern 5 \n",
    "    print(f(5))\n",
    "\n",
    "    x=np.linspace(-10,10)\n",
    "    y=f(x)\n",
    "    plt.plot(x,y)\n",
    "    plt.xlabel(\"x\")\n",
    "    plt.ylabel(\"y\")\n",
    "    plt.titel(\"f(x)=x^2\")\n",
    "    plt.grid()\n",
    "    plt.show()\n"
   ]
  },
  {
   "cell_type": "code",
   "execution_count": null,
   "metadata": {},
   "outputs": [],
   "source": []
  }
 ]
}