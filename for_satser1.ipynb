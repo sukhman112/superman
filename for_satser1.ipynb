{
 "metadata": {
  "language_info": {
   "codemirror_mode": {
    "name": "ipython",
    "version": 3
   },
   "file_extension": ".py",
   "mimetype": "text/x-python",
   "name": "python",
   "nbconvert_exporter": "python",
   "pygments_lexer": "ipython3",
   "version": "3.8.3-final"
  },
  "orig_nbformat": 2,
  "kernelspec": {
   "name": "python_defaultSpec_1601279619393",
   "display_name": "Python 3"
  }
 },
 "nbformat": 4,
 "nbformat_minor": 2,
 "cells": [
  {
   "cell_type": "code",
   "execution_count": 27,
   "metadata": {
    "tags": []
   },
   "outputs": [
    {
     "output_type": "stream",
     "name": "stdout",
     "text": "1 2 3 4 5 6 7 8 9 10  \n-10  \n-9  \n-8  \n-7  \n-6  \n-5  \n-4  \n-3  \n-2  \n-1  \n0  \n1  \n2  \n3  \n4  \n5  \n6  \n7  \n8  \n9  \n10  \n0 -1 -2 -3 -4 -5 -6 -7 -8 -9 -10"
    }
   ],
   "source": [
    "# uppgift 1\n",
    "#a\n",
    "for i in range (1,11): \n",
    "    print (i, end= \" \")\n",
    "print (end=\" \")\n",
    "print ()\n",
    "#b\n",
    "for i in range (-10,11):\n",
    "    print (i, end= \" \")\n",
    "    print (end=\" \")\n",
    "    print ()\n",
    "    \n",
    "#c (fatta inte denna)\n",
    "     \n",
    "for i in range (11):\n",
    "  print(0-i, end=\" \")\n",
    "      "
   ]
  },
  {
   "cell_type": "code",
   "execution_count": 28,
   "metadata": {
    "tags": []
   },
   "outputs": [
    {
     "output_type": "stream",
     "name": "stdout",
     "text": "1 2 3 4 5 6 7 8 9 10 11 12 13 14 15 16 17 18 19 20 21 22 23 24 25 26 27 28 29 30 31 32 33 34 35 36 37 38 39 40 41 42 43 44 45 46 47 48 49 50 51 52 53 54 55 56 57 58 59 60 61 62 63 64 65 66 67 68 69 70 71 72 73 74 75 76 77 78 79 80 81 82 83 84 85 86 87 88 89 90 91 92 93 94 95 96 97 98 99 100"
    }
   ],
   "source": [
    "# uppgift 3\n",
    "\n",
    "for i in range (1,101): \n",
    "    print (i, end= \" \")\n",
    "\n"
   ]
  },
  {
   "cell_type": "code",
   "execution_count": 9,
   "metadata": {
    "tags": []
   },
   "outputs": [
    {
     "output_type": "stream",
     "name": "stdout",
     "text": "Primtalen mellan 1 och 100 är:\n2\n3\n5\n7\n11\n13\n17\n19\n23\n29\n31\n37\n41\n43\n47\n53\n59\n61\n67\n71\n73\n79\n83\n89\n97\n"
    }
   ],
   "source": [
    "# uppgift 2\n",
    "\n",
    "lägsta = 1\n",
    "högsta = 100\n",
    "\n",
    "print(\"Primtalen mellan\", lägsta, \"och\", högsta, \"är:\")\n",
    "\n",
    "for num in range(lägsta, högsta + 1):\n",
    "   if num > 1:\n",
    "       for i in range(2, num):\n",
    "           if (num % i) == 0:\n",
    "               break\n",
    "       else:\n",
    "           print(num)\n",
    "           "
   ]
  }
 ]
}